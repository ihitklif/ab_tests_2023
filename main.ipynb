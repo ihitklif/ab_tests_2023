{
 "cells": [
  {
   "cell_type": "code",
   "execution_count": 1,
   "outputs": [],
   "source": [
    "# !pip3 install utils"
   ],
   "metadata": {
    "collapsed": false
   }
  },
  {
   "cell_type": "code",
   "execution_count": 2,
   "metadata": {
    "collapsed": true
   },
   "outputs": [],
   "source": [
    "import pandas as pd\n",
    "\n",
    "import config as cfg\n",
    "from metric_builder import _load_yaml_preset\n",
    "from report import build_experiment_report\n",
    "import time"
   ]
  },
  {
   "cell_type": "code",
   "execution_count": 3,
   "outputs": [],
   "source": [
    "logger = cfg.logger\n",
    "start_time = time.time()"
   ],
   "metadata": {
    "collapsed": false
   }
  },
  {
   "cell_type": "code",
   "execution_count": 4,
   "outputs": [
    {
     "name": "stdout",
     "output_type": "stream",
     "text": [
      "[2023-07-19 22:09:55] - AB Pipeline - INFO - Data loaded\n"
     ]
    }
   ],
   "source": [
    "# скачайте отдельно https://drive.google.com/file/d/1f-HM6v5HQFrQ8Rn8DmWz9G4NF4uTbo4x/view?usp=share_link\n",
    "# df = pd.read_parquet(f'data/parquet/df.parquet')\n",
    "\n",
    "# Мини-версия таблицы с данными по эксперименту, количество строк = 10000\n",
    "df = pd.read_csv(\"data/csv/df_sample.csv\")\n",
    "logger.info(\"Data loaded\")"
   ],
   "metadata": {
    "collapsed": false
   }
  },
  {
   "cell_type": "code",
   "execution_count": 5,
   "outputs": [
    {
     "data": {
      "text/plain": "   Unnamed: 0        date                          experiment_name  \\\n0     7854227  2022-06-27  202569574395405584945673903672822337874   \n1     7503845  2022-07-09  202569574395405584945673903672822337874   \n2     5697869  2022-07-10  202569574395405584945673903672822337874   \n3    10091858  2022-07-02  202569574395405584945673903672822337874   \n4     9981015  2022-07-01  202569574395405584945673903672822337874   \n\n   experiment_variant          event_name                    user_pseudo_id  \\\n0                   3                 NaN  99CA80D85767F03378A94545D3B3C63C   \n1                   0  view_shipping_info  30CB76C9409866013C261559DBA0C79F   \n2                   1  view_shipping_info  D641CF3DB22F1D685C890196E5A0E816   \n3                   0                 NaN  95FBC1844EAFCD4E9CC9B6032CB10EFC   \n4                   0  view_shipping_info  73F293DFB0BA7AAF60656DC92F15D13F   \n\n                             basket_id  \\\n0   AA6121EB897F87E2A66A29266A3B2E18.3   \n1   BB584FF35D59B88322914A89D42FC30B.1   \n2  6C88267A809CA0BAA35F63D694719FB0.14   \n3   CD0460A986959B86AC9F8414C40596C2.4   \n4   73790EE0220425555C4560643F92F9FB.3   \n\n                                   session_id  revenue  timestamp  ...  \\\n0  165635665699CA80D85767F03378A94545D3B3C63C      NaN        NaN  ...   \n1  165739573630CB76C9409866013C261559DBA0C79F      NaN        NaN  ...   \n2  1657467918D641CF3DB22F1D685C890196E5A0E816      NaN        NaN  ...   \n3  165677151395FBC1844EAFCD4E9CC9B6032CB10EFC      NaN        NaN  ...   \n4  165665109773F293DFB0BA7AAF60656DC92F15D13F      NaN        NaN  ...   \n\n   pg_cost_delivery  pg_cost_donation pg_cost_original_total  \\\n0               NaN               NaN                    NaN   \n1               NaN               NaN                    NaN   \n2               NaN               NaN                    NaN   \n3               NaN               NaN                    NaN   \n4               NaN               NaN                    NaN   \n\n  pg_cost_original_delivery pg_bonus_card pg_voucher  filter_source  \\\n0                       NaN           NaN        NaN            NaN   \n1                       NaN           NaN        NaN            NaN   \n2                       NaN           NaN        NaN            NaN   \n3                       NaN           NaN        NaN            NaN   \n4                       NaN           NaN        NaN            NaN   \n\n         name  days_between  order_id  \n0  make_order           NaN       NaN  \n1         NaN           NaN       NaN  \n2         NaN           NaN       NaN  \n3         NaN           NaN       NaN  \n4         NaN           NaN       NaN  \n\n[5 rows x 29 columns]",
      "text/html": "<div>\n<style scoped>\n    .dataframe tbody tr th:only-of-type {\n        vertical-align: middle;\n    }\n\n    .dataframe tbody tr th {\n        vertical-align: top;\n    }\n\n    .dataframe thead th {\n        text-align: right;\n    }\n</style>\n<table border=\"1\" class=\"dataframe\">\n  <thead>\n    <tr style=\"text-align: right;\">\n      <th></th>\n      <th>Unnamed: 0</th>\n      <th>date</th>\n      <th>experiment_name</th>\n      <th>experiment_variant</th>\n      <th>event_name</th>\n      <th>user_pseudo_id</th>\n      <th>basket_id</th>\n      <th>session_id</th>\n      <th>revenue</th>\n      <th>timestamp</th>\n      <th>...</th>\n      <th>pg_cost_delivery</th>\n      <th>pg_cost_donation</th>\n      <th>pg_cost_original_total</th>\n      <th>pg_cost_original_delivery</th>\n      <th>pg_bonus_card</th>\n      <th>pg_voucher</th>\n      <th>filter_source</th>\n      <th>name</th>\n      <th>days_between</th>\n      <th>order_id</th>\n    </tr>\n  </thead>\n  <tbody>\n    <tr>\n      <th>0</th>\n      <td>7854227</td>\n      <td>2022-06-27</td>\n      <td>202569574395405584945673903672822337874</td>\n      <td>3</td>\n      <td>NaN</td>\n      <td>99CA80D85767F03378A94545D3B3C63C</td>\n      <td>AA6121EB897F87E2A66A29266A3B2E18.3</td>\n      <td>165635665699CA80D85767F03378A94545D3B3C63C</td>\n      <td>NaN</td>\n      <td>NaN</td>\n      <td>...</td>\n      <td>NaN</td>\n      <td>NaN</td>\n      <td>NaN</td>\n      <td>NaN</td>\n      <td>NaN</td>\n      <td>NaN</td>\n      <td>NaN</td>\n      <td>make_order</td>\n      <td>NaN</td>\n      <td>NaN</td>\n    </tr>\n    <tr>\n      <th>1</th>\n      <td>7503845</td>\n      <td>2022-07-09</td>\n      <td>202569574395405584945673903672822337874</td>\n      <td>0</td>\n      <td>view_shipping_info</td>\n      <td>30CB76C9409866013C261559DBA0C79F</td>\n      <td>BB584FF35D59B88322914A89D42FC30B.1</td>\n      <td>165739573630CB76C9409866013C261559DBA0C79F</td>\n      <td>NaN</td>\n      <td>NaN</td>\n      <td>...</td>\n      <td>NaN</td>\n      <td>NaN</td>\n      <td>NaN</td>\n      <td>NaN</td>\n      <td>NaN</td>\n      <td>NaN</td>\n      <td>NaN</td>\n      <td>NaN</td>\n      <td>NaN</td>\n      <td>NaN</td>\n    </tr>\n    <tr>\n      <th>2</th>\n      <td>5697869</td>\n      <td>2022-07-10</td>\n      <td>202569574395405584945673903672822337874</td>\n      <td>1</td>\n      <td>view_shipping_info</td>\n      <td>D641CF3DB22F1D685C890196E5A0E816</td>\n      <td>6C88267A809CA0BAA35F63D694719FB0.14</td>\n      <td>1657467918D641CF3DB22F1D685C890196E5A0E816</td>\n      <td>NaN</td>\n      <td>NaN</td>\n      <td>...</td>\n      <td>NaN</td>\n      <td>NaN</td>\n      <td>NaN</td>\n      <td>NaN</td>\n      <td>NaN</td>\n      <td>NaN</td>\n      <td>NaN</td>\n      <td>NaN</td>\n      <td>NaN</td>\n      <td>NaN</td>\n    </tr>\n    <tr>\n      <th>3</th>\n      <td>10091858</td>\n      <td>2022-07-02</td>\n      <td>202569574395405584945673903672822337874</td>\n      <td>0</td>\n      <td>NaN</td>\n      <td>95FBC1844EAFCD4E9CC9B6032CB10EFC</td>\n      <td>CD0460A986959B86AC9F8414C40596C2.4</td>\n      <td>165677151395FBC1844EAFCD4E9CC9B6032CB10EFC</td>\n      <td>NaN</td>\n      <td>NaN</td>\n      <td>...</td>\n      <td>NaN</td>\n      <td>NaN</td>\n      <td>NaN</td>\n      <td>NaN</td>\n      <td>NaN</td>\n      <td>NaN</td>\n      <td>NaN</td>\n      <td>NaN</td>\n      <td>NaN</td>\n      <td>NaN</td>\n    </tr>\n    <tr>\n      <th>4</th>\n      <td>9981015</td>\n      <td>2022-07-01</td>\n      <td>202569574395405584945673903672822337874</td>\n      <td>0</td>\n      <td>view_shipping_info</td>\n      <td>73F293DFB0BA7AAF60656DC92F15D13F</td>\n      <td>73790EE0220425555C4560643F92F9FB.3</td>\n      <td>165665109773F293DFB0BA7AAF60656DC92F15D13F</td>\n      <td>NaN</td>\n      <td>NaN</td>\n      <td>...</td>\n      <td>NaN</td>\n      <td>NaN</td>\n      <td>NaN</td>\n      <td>NaN</td>\n      <td>NaN</td>\n      <td>NaN</td>\n      <td>NaN</td>\n      <td>NaN</td>\n      <td>NaN</td>\n      <td>NaN</td>\n    </tr>\n  </tbody>\n</table>\n<p>5 rows × 29 columns</p>\n</div>"
     },
     "execution_count": 5,
     "metadata": {},
     "output_type": "execute_result"
    }
   ],
   "source": [
    "df.head()"
   ],
   "metadata": {
    "collapsed": false
   }
  },
  {
   "cell_type": "code",
   "execution_count": 6,
   "outputs": [
    {
     "name": "stdout",
     "output_type": "stream",
     "text": [
      "[2023-07-19 19:21:28] - AB Pipeline - INFO - Average Revenuer Per User Without Cancelllations\n",
      "[2023-07-19 19:21:30] - AB Pipeline - INFO - Average Order Value\n",
      "[2023-07-19 19:21:32] - AB Pipeline - INFO - Canceled Orders per Orders\n",
      "[1751, 1754] [34, 29]\n",
      "[2023-07-19 19:21:33] - AB Pipeline - INFO - Average Revenue per Paying User Without Cancelation\n"
     ]
    }
   ],
   "source": [
    "experiment_report = build_experiment_report(\n",
    "    df=df,\n",
    "    metric_config=_load_yaml_preset(preset='todo')\n",
    ")"
   ],
   "metadata": {
    "collapsed": false
   }
  },
  {
   "cell_type": "code",
   "execution_count": 7,
   "outputs": [
    {
     "data": {
      "text/plain": "                                         metric_name    mean_0     mean_1  \\\n0   Average Revenuer Per User Without Cancelllations  35.02924  26.452356   \n0                                Average Order Value   1.00000   1.000000   \n0                         Canceled Orders per Orders   1.00000   1.000000   \n0  Average Revenue per Paying User Without Cancel...  35.02924  26.452356   \n\n          var_0         var_1     delta      lift    pvalue     statistic  \n0  85678.243854  66817.364501 -8.576885 -0.244849  0.357896  9.195022e-01  \n0      0.000000      0.000000  0.000000  0.000000       NaN           NaN  \n0      0.000000      0.000000  0.000000  0.000000  0.520526  6.425354e-01  \n0  85678.243854  66817.364501 -8.576885 -0.244849  0.513617  1.540130e+06  ",
      "text/html": "<div>\n<style scoped>\n    .dataframe tbody tr th:only-of-type {\n        vertical-align: middle;\n    }\n\n    .dataframe tbody tr th {\n        vertical-align: top;\n    }\n\n    .dataframe thead th {\n        text-align: right;\n    }\n</style>\n<table border=\"1\" class=\"dataframe\">\n  <thead>\n    <tr style=\"text-align: right;\">\n      <th></th>\n      <th>metric_name</th>\n      <th>mean_0</th>\n      <th>mean_1</th>\n      <th>var_0</th>\n      <th>var_1</th>\n      <th>delta</th>\n      <th>lift</th>\n      <th>pvalue</th>\n      <th>statistic</th>\n    </tr>\n  </thead>\n  <tbody>\n    <tr>\n      <th>0</th>\n      <td>Average Revenuer Per User Without Cancelllations</td>\n      <td>35.02924</td>\n      <td>26.452356</td>\n      <td>85678.243854</td>\n      <td>66817.364501</td>\n      <td>-8.576885</td>\n      <td>-0.244849</td>\n      <td>0.357896</td>\n      <td>9.195022e-01</td>\n    </tr>\n    <tr>\n      <th>0</th>\n      <td>Average Order Value</td>\n      <td>1.00000</td>\n      <td>1.000000</td>\n      <td>0.000000</td>\n      <td>0.000000</td>\n      <td>0.000000</td>\n      <td>0.000000</td>\n      <td>NaN</td>\n      <td>NaN</td>\n    </tr>\n    <tr>\n      <th>0</th>\n      <td>Canceled Orders per Orders</td>\n      <td>1.00000</td>\n      <td>1.000000</td>\n      <td>0.000000</td>\n      <td>0.000000</td>\n      <td>0.000000</td>\n      <td>0.000000</td>\n      <td>0.520526</td>\n      <td>6.425354e-01</td>\n    </tr>\n    <tr>\n      <th>0</th>\n      <td>Average Revenue per Paying User Without Cancel...</td>\n      <td>35.02924</td>\n      <td>26.452356</td>\n      <td>85678.243854</td>\n      <td>66817.364501</td>\n      <td>-8.576885</td>\n      <td>-0.244849</td>\n      <td>0.513617</td>\n      <td>1.540130e+06</td>\n    </tr>\n  </tbody>\n</table>\n</div>"
     },
     "execution_count": 7,
     "metadata": {},
     "output_type": "execute_result"
    }
   ],
   "source": [
    "experiment_report"
   ],
   "metadata": {
    "collapsed": false
   }
  },
  {
   "cell_type": "code",
   "execution_count": 9,
   "outputs": [
    {
     "name": "stdout",
     "output_type": "stream",
     "text": [
      "[2023-07-19 10:34:31] - AB Pipeline - INFO - 7.9503607749938965\n"
     ]
    }
   ],
   "source": [
    "# experiment_report.to_csv(f\"experiment_report.csv\")\n",
    "\n",
    "cfg.logger.info(time.time() - start_time)"
   ],
   "metadata": {
    "collapsed": false
   }
  },
  {
   "cell_type": "code",
   "execution_count": 6,
   "outputs": [],
   "source": [
    "monte_carlo_config = _load_yaml_preset(preset='todo/mc.yaml', mc=True)"
   ],
   "metadata": {
    "collapsed": false
   }
  },
  {
   "cell_type": "code",
   "execution_count": 7,
   "outputs": [
    {
     "data": {
      "text/plain": "{'start': 0, 'end': 10, 'by': 1}"
     },
     "execution_count": 7,
     "metadata": {},
     "output_type": "execute_result"
    }
   ],
   "source": [
    "monte_carlo_config.get('lifts')"
   ],
   "metadata": {
    "collapsed": false
   }
  },
  {
   "cell_type": "code",
   "execution_count": 8,
   "outputs": [
    {
     "data": {
      "text/plain": "{'estimators': ['t_test', 'mann_whitney', 'prop_test'],\n 'lifts': {'start': 0, 'end': 10, 'by': 1}}"
     },
     "execution_count": 8,
     "metadata": {},
     "output_type": "execute_result"
    }
   ],
   "source": [
    "monte_carlo_config"
   ],
   "metadata": {
    "collapsed": false
   }
  },
  {
   "cell_type": "code",
   "execution_count": null,
   "outputs": [
    {
     "name": "stderr",
     "output_type": "stream",
     "text": [
      "  0%|          | 0/4 [00:00<?, ?it/s]\n",
      "  0%|          | 0/10 [00:00<?, ?it/s]\u001B[A"
     ]
    },
    {
     "name": "stdout",
     "output_type": "stream",
     "text": [
      "[2023-07-19 22:10:18] - AB Pipeline - INFO - t_test\n",
      "[2023-07-19 22:10:20] - AB Pipeline - INFO - t_test\n",
      "[2023-07-19 22:10:22] - AB Pipeline - INFO - t_test\n",
      "[2023-07-19 22:10:24] - AB Pipeline - INFO - t_test\n",
      "[2023-07-19 22:10:26] - AB Pipeline - INFO - mann_whitney\n",
      "[2023-07-19 22:10:28] - AB Pipeline - INFO - mann_whitney\n",
      "[2023-07-19 22:10:30] - AB Pipeline - INFO - mann_whitney\n",
      "[2023-07-19 22:10:32] - AB Pipeline - INFO - mann_whitney\n",
      "[2023-07-19 22:10:34] - AB Pipeline - INFO - prop_test\n",
      "[4944.0, 4854.0] [205618.41509999998, 0.0]\n"
     ]
    },
    {
     "name": "stderr",
     "output_type": "stream",
     "text": [
      "/Library/Python/3.8/site-packages/statsmodels/stats/proportion.py:1025: RuntimeWarning: invalid value encountered in sqrt\n",
      "  std_diff = np.sqrt(var_)\n"
     ]
    },
    {
     "name": "stdout",
     "output_type": "stream",
     "text": [
      "[2023-07-19 22:10:36] - AB Pipeline - INFO - prop_test\n",
      "[4944, 4854] [94, 107]\n",
      "[2023-07-19 22:10:38] - AB Pipeline - INFO - prop_test\n",
      "[4944, 4854] [94, 107]\n",
      "[2023-07-19 22:10:40] - AB Pipeline - INFO - prop_test\n",
      "[4944.0, 4854.0] [205618.41509999998, 0.0]\n"
     ]
    },
    {
     "name": "stderr",
     "output_type": "stream",
     "text": [
      "/Library/Python/3.8/site-packages/statsmodels/stats/proportion.py:1025: RuntimeWarning: invalid value encountered in sqrt\n",
      "  std_diff = np.sqrt(var_)\n"
     ]
    },
    {
     "name": "stdout",
     "output_type": "stream",
     "text": [
      "[2023-07-19 22:10:43] - AB Pipeline - INFO - t_test\n",
      "[2023-07-19 22:10:45] - AB Pipeline - INFO - t_test\n",
      "[2023-07-19 22:10:46] - AB Pipeline - INFO - t_test\n",
      "[2023-07-19 22:10:49] - AB Pipeline - INFO - t_test\n",
      "[2023-07-19 22:10:51] - AB Pipeline - INFO - mann_whitney\n",
      "[2023-07-19 22:10:53] - AB Pipeline - INFO - mann_whitney\n",
      "[2023-07-19 22:10:54] - AB Pipeline - INFO - mann_whitney\n",
      "[2023-07-19 22:10:57] - AB Pipeline - INFO - mann_whitney\n",
      "[2023-07-19 22:10:59] - AB Pipeline - INFO - prop_test\n",
      "[4896.0, 4893.0] [190447.1422, 0.0]\n"
     ]
    },
    {
     "name": "stderr",
     "output_type": "stream",
     "text": [
      "/Library/Python/3.8/site-packages/statsmodels/stats/proportion.py:1025: RuntimeWarning: invalid value encountered in sqrt\n",
      "  std_diff = np.sqrt(var_)\n"
     ]
    },
    {
     "name": "stdout",
     "output_type": "stream",
     "text": [
      "[2023-07-19 22:11:01] - AB Pipeline - INFO - prop_test\n",
      "[4896, 4893] [101, 100]\n",
      "[2023-07-19 22:11:03] - AB Pipeline - INFO - prop_test\n",
      "[4896, 4893] [101, 100]\n",
      "[2023-07-19 22:11:05] - AB Pipeline - INFO - prop_test\n",
      "[4896.0, 4893.0] [190447.1422, 0.0]\n"
     ]
    },
    {
     "name": "stderr",
     "output_type": "stream",
     "text": [
      "/Library/Python/3.8/site-packages/statsmodels/stats/proportion.py:1025: RuntimeWarning: invalid value encountered in sqrt\n",
      "  std_diff = np.sqrt(var_)\n"
     ]
    },
    {
     "name": "stdout",
     "output_type": "stream",
     "text": [
      "[2023-07-19 22:11:07] - AB Pipeline - INFO - t_test\n",
      "[2023-07-19 22:11:09] - AB Pipeline - INFO - t_test\n",
      "[2023-07-19 22:11:11] - AB Pipeline - INFO - t_test\n",
      "[2023-07-19 22:11:13] - AB Pipeline - INFO - t_test\n",
      "[2023-07-19 22:11:15] - AB Pipeline - INFO - mann_whitney\n",
      "[2023-07-19 22:11:17] - AB Pipeline - INFO - mann_whitney\n",
      "[2023-07-19 22:11:19] - AB Pipeline - INFO - mann_whitney\n",
      "[2023-07-19 22:11:21] - AB Pipeline - INFO - mann_whitney\n",
      "[2023-07-19 22:11:23] - AB Pipeline - INFO - prop_test\n",
      "[4875.0, 4926.0] [164548.4092, 0.0]\n"
     ]
    },
    {
     "name": "stderr",
     "output_type": "stream",
     "text": [
      "/Library/Python/3.8/site-packages/statsmodels/stats/proportion.py:1025: RuntimeWarning: invalid value encountered in sqrt\n",
      "  std_diff = np.sqrt(var_)\n"
     ]
    },
    {
     "name": "stdout",
     "output_type": "stream",
     "text": [
      "[2023-07-19 22:11:25] - AB Pipeline - INFO - prop_test\n",
      "[4875, 4926] [96, 105]\n",
      "[2023-07-19 22:11:27] - AB Pipeline - INFO - prop_test\n",
      "[4875, 4926] [96, 105]\n",
      "[2023-07-19 22:11:29] - AB Pipeline - INFO - prop_test\n",
      "[4875.0, 4926.0] [164548.4092, 0.0]\n"
     ]
    },
    {
     "name": "stderr",
     "output_type": "stream",
     "text": [
      "/Library/Python/3.8/site-packages/statsmodels/stats/proportion.py:1025: RuntimeWarning: invalid value encountered in sqrt\n",
      "  std_diff = np.sqrt(var_)\n"
     ]
    },
    {
     "name": "stdout",
     "output_type": "stream",
     "text": [
      "[2023-07-19 22:11:31] - AB Pipeline - INFO - t_test\n",
      "[2023-07-19 22:11:33] - AB Pipeline - INFO - t_test\n",
      "[2023-07-19 22:11:35] - AB Pipeline - INFO - t_test\n",
      "[2023-07-19 22:11:37] - AB Pipeline - INFO - t_test\n",
      "[2023-07-19 22:11:39] - AB Pipeline - INFO - mann_whitney\n",
      "[2023-07-19 22:11:41] - AB Pipeline - INFO - mann_whitney\n",
      "[2023-07-19 22:11:43] - AB Pipeline - INFO - mann_whitney\n",
      "[2023-07-19 22:11:45] - AB Pipeline - INFO - mann_whitney\n",
      "[2023-07-19 22:11:47] - AB Pipeline - INFO - prop_test\n",
      "[4882.0, 4909.0] [173845.4921, 0.0]\n"
     ]
    },
    {
     "name": "stderr",
     "output_type": "stream",
     "text": [
      "/Library/Python/3.8/site-packages/statsmodels/stats/proportion.py:1025: RuntimeWarning: invalid value encountered in sqrt\n",
      "  std_diff = np.sqrt(var_)\n"
     ]
    },
    {
     "name": "stdout",
     "output_type": "stream",
     "text": [
      "[2023-07-19 22:11:49] - AB Pipeline - INFO - prop_test\n",
      "[4882, 4909] [97, 104]\n",
      "[2023-07-19 22:11:51] - AB Pipeline - INFO - prop_test\n",
      "[4882, 4909] [97, 104]\n",
      "[2023-07-19 22:11:53] - AB Pipeline - INFO - prop_test\n",
      "[4882.0, 4909.0] [173845.4921, 0.0]\n"
     ]
    },
    {
     "name": "stderr",
     "output_type": "stream",
     "text": [
      "/Library/Python/3.8/site-packages/statsmodels/stats/proportion.py:1025: RuntimeWarning: invalid value encountered in sqrt\n",
      "  std_diff = np.sqrt(var_)\n"
     ]
    },
    {
     "name": "stdout",
     "output_type": "stream",
     "text": [
      "[2023-07-19 22:11:56] - AB Pipeline - INFO - t_test\n",
      "[2023-07-19 22:11:58] - AB Pipeline - INFO - t_test\n",
      "[2023-07-19 22:12:00] - AB Pipeline - INFO - t_test\n",
      "[2023-07-19 22:12:02] - AB Pipeline - INFO - t_test\n",
      "[2023-07-19 22:12:04] - AB Pipeline - INFO - mann_whitney\n",
      "[2023-07-19 22:12:06] - AB Pipeline - INFO - mann_whitney\n",
      "[2023-07-19 22:12:08] - AB Pipeline - INFO - mann_whitney\n",
      "[2023-07-19 22:12:10] - AB Pipeline - INFO - mann_whitney\n",
      "[2023-07-19 22:12:12] - AB Pipeline - INFO - prop_test\n",
      "[4942.0, 4858.0] [204633.35445, 0.0]\n"
     ]
    },
    {
     "name": "stderr",
     "output_type": "stream",
     "text": [
      "/Library/Python/3.8/site-packages/statsmodels/stats/proportion.py:1025: RuntimeWarning: invalid value encountered in sqrt\n",
      "  std_diff = np.sqrt(var_)\n"
     ]
    },
    {
     "name": "stdout",
     "output_type": "stream",
     "text": [
      "[2023-07-19 22:12:14] - AB Pipeline - INFO - prop_test\n",
      "[4942, 4858] [100, 101]\n",
      "[2023-07-19 22:12:16] - AB Pipeline - INFO - prop_test\n",
      "[4942, 4858] [100, 101]\n",
      "[2023-07-19 22:12:18] - AB Pipeline - INFO - prop_test\n",
      "[4942.0, 4858.0] [204633.35445, 0.0]\n"
     ]
    },
    {
     "name": "stderr",
     "output_type": "stream",
     "text": [
      "/Library/Python/3.8/site-packages/statsmodels/stats/proportion.py:1025: RuntimeWarning: invalid value encountered in sqrt\n",
      "  std_diff = np.sqrt(var_)\n"
     ]
    },
    {
     "name": "stdout",
     "output_type": "stream",
     "text": [
      "[2023-07-19 22:12:20] - AB Pipeline - INFO - t_test\n",
      "[2023-07-19 22:12:22] - AB Pipeline - INFO - t_test\n",
      "[2023-07-19 22:12:24] - AB Pipeline - INFO - t_test\n",
      "[2023-07-19 22:12:26] - AB Pipeline - INFO - t_test\n",
      "[2023-07-19 22:12:29] - AB Pipeline - INFO - mann_whitney\n",
      "[2023-07-19 22:12:31] - AB Pipeline - INFO - mann_whitney\n",
      "[2023-07-19 22:12:33] - AB Pipeline - INFO - mann_whitney\n",
      "[2023-07-19 22:12:35] - AB Pipeline - INFO - mann_whitney\n",
      "[2023-07-19 22:12:37] - AB Pipeline - INFO - prop_test\n",
      "[4895.0, 4904.0] [161652.09935, 0.0]\n"
     ]
    },
    {
     "name": "stderr",
     "output_type": "stream",
     "text": [
      "/Library/Python/3.8/site-packages/statsmodels/stats/proportion.py:1025: RuntimeWarning: invalid value encountered in sqrt\n",
      "  std_diff = np.sqrt(var_)\n"
     ]
    },
    {
     "name": "stdout",
     "output_type": "stream",
     "text": [
      "[2023-07-19 22:12:39] - AB Pipeline - INFO - prop_test\n",
      "[4895, 4904] [97, 104]\n",
      "[2023-07-19 22:12:41] - AB Pipeline - INFO - prop_test\n",
      "[4895, 4904] [97, 104]\n",
      "[2023-07-19 22:12:43] - AB Pipeline - INFO - prop_test\n",
      "[4895.0, 4904.0] [161652.09935, 0.0]\n"
     ]
    },
    {
     "name": "stderr",
     "output_type": "stream",
     "text": [
      "/Library/Python/3.8/site-packages/statsmodels/stats/proportion.py:1025: RuntimeWarning: invalid value encountered in sqrt\n",
      "  std_diff = np.sqrt(var_)\n"
     ]
    },
    {
     "name": "stdout",
     "output_type": "stream",
     "text": [
      "[2023-07-19 22:12:45] - AB Pipeline - INFO - t_test\n",
      "[2023-07-19 22:12:47] - AB Pipeline - INFO - t_test\n",
      "[2023-07-19 22:12:49] - AB Pipeline - INFO - t_test\n",
      "[2023-07-19 22:12:51] - AB Pipeline - INFO - t_test\n",
      "[2023-07-19 22:12:53] - AB Pipeline - INFO - mann_whitney\n",
      "[2023-07-19 22:12:55] - AB Pipeline - INFO - mann_whitney\n",
      "[2023-07-19 22:12:57] - AB Pipeline - INFO - mann_whitney\n",
      "[2023-07-19 22:12:59] - AB Pipeline - INFO - mann_whitney\n",
      "[2023-07-19 22:13:01] - AB Pipeline - INFO - prop_test\n",
      "[4970.0, 4820.0] [160327.40115, 0.0]\n"
     ]
    },
    {
     "name": "stderr",
     "output_type": "stream",
     "text": [
      "/Library/Python/3.8/site-packages/statsmodels/stats/proportion.py:1025: RuntimeWarning: invalid value encountered in sqrt\n",
      "  std_diff = np.sqrt(var_)\n"
     ]
    },
    {
     "name": "stdout",
     "output_type": "stream",
     "text": [
      "[2023-07-19 22:13:03] - AB Pipeline - INFO - prop_test\n",
      "[4970, 4820] [97, 104]\n",
      "[2023-07-19 22:13:05] - AB Pipeline - INFO - prop_test\n",
      "[4970, 4820] [97, 104]\n",
      "[2023-07-19 22:13:08] - AB Pipeline - INFO - prop_test\n",
      "[4970.0, 4820.0] [160327.40115, 0.0]\n"
     ]
    },
    {
     "name": "stderr",
     "output_type": "stream",
     "text": [
      "/Library/Python/3.8/site-packages/statsmodels/stats/proportion.py:1025: RuntimeWarning: invalid value encountered in sqrt\n",
      "  std_diff = np.sqrt(var_)\n"
     ]
    },
    {
     "name": "stdout",
     "output_type": "stream",
     "text": [
      "[2023-07-19 22:13:10] - AB Pipeline - INFO - t_test\n",
      "[2023-07-19 22:13:12] - AB Pipeline - INFO - t_test\n",
      "[2023-07-19 22:13:14] - AB Pipeline - INFO - t_test\n",
      "[2023-07-19 22:13:16] - AB Pipeline - INFO - t_test\n",
      "[2023-07-19 22:13:18] - AB Pipeline - INFO - mann_whitney\n",
      "[2023-07-19 22:13:20] - AB Pipeline - INFO - mann_whitney\n",
      "[2023-07-19 22:13:22] - AB Pipeline - INFO - mann_whitney\n",
      "[2023-07-19 22:13:24] - AB Pipeline - INFO - mann_whitney\n",
      "[2023-07-19 22:13:26] - AB Pipeline - INFO - prop_test\n",
      "[4913.0, 4869.0] [161077.2121, 0.0]\n"
     ]
    },
    {
     "name": "stderr",
     "output_type": "stream",
     "text": [
      "/Library/Python/3.8/site-packages/statsmodels/stats/proportion.py:1025: RuntimeWarning: invalid value encountered in sqrt\n",
      "  std_diff = np.sqrt(var_)\n"
     ]
    },
    {
     "name": "stdout",
     "output_type": "stream",
     "text": [
      "[2023-07-19 22:13:28] - AB Pipeline - INFO - prop_test\n",
      "[4913, 4869] [99, 102]\n",
      "[2023-07-19 22:13:30] - AB Pipeline - INFO - prop_test\n",
      "[4913, 4869] [99, 102]\n",
      "[2023-07-19 22:13:32] - AB Pipeline - INFO - prop_test\n",
      "[4913.0, 4869.0] [161077.2121, 0.0]\n"
     ]
    },
    {
     "name": "stderr",
     "output_type": "stream",
     "text": [
      "/Library/Python/3.8/site-packages/statsmodels/stats/proportion.py:1025: RuntimeWarning: invalid value encountered in sqrt\n",
      "  std_diff = np.sqrt(var_)\n"
     ]
    },
    {
     "name": "stdout",
     "output_type": "stream",
     "text": [
      "[2023-07-19 22:13:34] - AB Pipeline - INFO - t_test\n",
      "[2023-07-19 22:13:36] - AB Pipeline - INFO - t_test\n",
      "[2023-07-19 22:13:38] - AB Pipeline - INFO - t_test\n",
      "[2023-07-19 22:13:40] - AB Pipeline - INFO - t_test\n",
      "[2023-07-19 22:13:42] - AB Pipeline - INFO - mann_whitney\n",
      "[2023-07-19 22:13:44] - AB Pipeline - INFO - mann_whitney\n",
      "[2023-07-19 22:13:46] - AB Pipeline - INFO - mann_whitney\n",
      "[2023-07-19 22:13:48] - AB Pipeline - INFO - mann_whitney\n",
      "[2023-07-19 22:13:50] - AB Pipeline - INFO - prop_test\n",
      "[4875.0, 4932.0] [228249.26914999998, 0.0]\n"
     ]
    },
    {
     "name": "stderr",
     "output_type": "stream",
     "text": [
      "/Library/Python/3.8/site-packages/statsmodels/stats/proportion.py:1025: RuntimeWarning: invalid value encountered in sqrt\n",
      "  std_diff = np.sqrt(var_)\n"
     ]
    },
    {
     "name": "stdout",
     "output_type": "stream",
     "text": [
      "[2023-07-19 22:13:52] - AB Pipeline - INFO - prop_test\n",
      "[4875, 4932] [103, 98]\n",
      "[2023-07-19 22:13:54] - AB Pipeline - INFO - prop_test\n",
      "[4875, 4932] [103, 98]\n",
      "[2023-07-19 22:13:56] - AB Pipeline - INFO - prop_test\n",
      "[4875.0, 4932.0] [228249.26914999998, 0.0]\n"
     ]
    },
    {
     "name": "stderr",
     "output_type": "stream",
     "text": [
      "/Library/Python/3.8/site-packages/statsmodels/stats/proportion.py:1025: RuntimeWarning: invalid value encountered in sqrt\n",
      "  std_diff = np.sqrt(var_)\n"
     ]
    },
    {
     "name": "stdout",
     "output_type": "stream",
     "text": [
      "[2023-07-19 22:13:58] - AB Pipeline - INFO - t_test\n",
      "[2023-07-19 22:14:00] - AB Pipeline - INFO - t_test\n",
      "[2023-07-19 22:14:02] - AB Pipeline - INFO - t_test\n",
      "[2023-07-19 22:14:04] - AB Pipeline - INFO - t_test\n",
      "[2023-07-19 22:14:06] - AB Pipeline - INFO - mann_whitney\n",
      "[2023-07-19 22:14:08] - AB Pipeline - INFO - mann_whitney\n",
      "[2023-07-19 22:14:10] - AB Pipeline - INFO - mann_whitney\n",
      "[2023-07-19 22:14:12] - AB Pipeline - INFO - mann_whitney\n",
      "[2023-07-19 22:14:14] - AB Pipeline - INFO - prop_test\n",
      "[4882.0, 4894.0] [181769.06265, 0.0]\n"
     ]
    },
    {
     "name": "stderr",
     "output_type": "stream",
     "text": [
      "/Library/Python/3.8/site-packages/statsmodels/stats/proportion.py:1025: RuntimeWarning: invalid value encountered in sqrt\n",
      "  std_diff = np.sqrt(var_)\n"
     ]
    },
    {
     "name": "stdout",
     "output_type": "stream",
     "text": [
      "[2023-07-19 22:14:16] - AB Pipeline - INFO - prop_test\n",
      "[4882, 4894] [110, 91]\n",
      "[2023-07-19 22:14:18] - AB Pipeline - INFO - prop_test\n",
      "[4882, 4894] [110, 91]\n",
      "[2023-07-19 22:14:20] - AB Pipeline - INFO - prop_test\n"
     ]
    },
    {
     "name": "stderr",
     "output_type": "stream",
     "text": [
      "/Library/Python/3.8/site-packages/statsmodels/stats/proportion.py:1025: RuntimeWarning: invalid value encountered in sqrt\n",
      "  std_diff = np.sqrt(var_)\n",
      "\n",
      " 10%|█         | 1/10 [04:04<36:39, 244.42s/it]\u001B[A"
     ]
    },
    {
     "name": "stdout",
     "output_type": "stream",
     "text": [
      "[4882.0, 4894.0] [181769.06265, 0.0]\n",
      "[2023-07-19 22:14:23] - AB Pipeline - INFO - t_test\n",
      "[2023-07-19 22:14:24] - AB Pipeline - INFO - t_test\n",
      "[2023-07-19 22:14:26] - AB Pipeline - INFO - t_test\n",
      "[2023-07-19 22:14:29] - AB Pipeline - INFO - t_test\n",
      "[2023-07-19 22:14:31] - AB Pipeline - INFO - mann_whitney\n",
      "[2023-07-19 22:14:33] - AB Pipeline - INFO - mann_whitney\n",
      "[2023-07-19 22:14:34] - AB Pipeline - INFO - mann_whitney\n",
      "[2023-07-19 22:14:37] - AB Pipeline - INFO - mann_whitney\n",
      "[2023-07-19 22:14:39] - AB Pipeline - INFO - prop_test\n",
      "[4897.0, 4897.0] [186891.901, 187354.72944999998]\n"
     ]
    },
    {
     "name": "stderr",
     "output_type": "stream",
     "text": [
      "/Library/Python/3.8/site-packages/statsmodels/stats/proportion.py:1025: RuntimeWarning: invalid value encountered in sqrt\n",
      "  std_diff = np.sqrt(var_)\n"
     ]
    },
    {
     "name": "stdout",
     "output_type": "stream",
     "text": [
      "[2023-07-19 22:14:41] - AB Pipeline - INFO - prop_test\n",
      "[4897, 4897] [106, 95]\n",
      "[2023-07-19 22:14:43] - AB Pipeline - INFO - prop_test\n",
      "[4897, 4897] [106, 95]\n",
      "[2023-07-19 22:14:45] - AB Pipeline - INFO - prop_test\n",
      "[4897.0, 4897.0] [186891.901, 187354.72944999998]\n"
     ]
    },
    {
     "name": "stderr",
     "output_type": "stream",
     "text": [
      "/Library/Python/3.8/site-packages/statsmodels/stats/proportion.py:1025: RuntimeWarning: invalid value encountered in sqrt\n",
      "  std_diff = np.sqrt(var_)\n"
     ]
    },
    {
     "name": "stdout",
     "output_type": "stream",
     "text": [
      "[2023-07-19 22:14:47] - AB Pipeline - INFO - t_test\n",
      "[2023-07-19 22:14:49] - AB Pipeline - INFO - t_test\n",
      "[2023-07-19 22:14:51] - AB Pipeline - INFO - t_test\n",
      "[2023-07-19 22:14:53] - AB Pipeline - INFO - t_test\n",
      "[2023-07-19 22:14:55] - AB Pipeline - INFO - mann_whitney\n",
      "[2023-07-19 22:14:57] - AB Pipeline - INFO - mann_whitney\n",
      "[2023-07-19 22:14:59] - AB Pipeline - INFO - mann_whitney\n",
      "[2023-07-19 22:15:01] - AB Pipeline - INFO - mann_whitney\n",
      "[2023-07-19 22:15:03] - AB Pipeline - INFO - prop_test\n",
      "[4790.0, 4997.0] [210706.95659999998, 163539.67385]\n"
     ]
    },
    {
     "name": "stderr",
     "output_type": "stream",
     "text": [
      "/Library/Python/3.8/site-packages/statsmodels/stats/proportion.py:1025: RuntimeWarning: invalid value encountered in sqrt\n",
      "  std_diff = np.sqrt(var_)\n"
     ]
    },
    {
     "name": "stdout",
     "output_type": "stream",
     "text": [
      "[2023-07-19 22:15:05] - AB Pipeline - INFO - prop_test\n",
      "[4790, 4997] [102, 99]\n",
      "[2023-07-19 22:15:07] - AB Pipeline - INFO - prop_test\n",
      "[4790, 4997] [102, 99]\n",
      "[2023-07-19 22:15:09] - AB Pipeline - INFO - prop_test\n",
      "[4790.0, 4997.0] [210706.95659999998, 163539.67385]\n"
     ]
    },
    {
     "name": "stderr",
     "output_type": "stream",
     "text": [
      "/Library/Python/3.8/site-packages/statsmodels/stats/proportion.py:1025: RuntimeWarning: invalid value encountered in sqrt\n",
      "  std_diff = np.sqrt(var_)\n"
     ]
    },
    {
     "name": "stdout",
     "output_type": "stream",
     "text": [
      "[2023-07-19 22:15:11] - AB Pipeline - INFO - t_test\n",
      "[2023-07-19 22:15:13] - AB Pipeline - INFO - t_test\n",
      "[2023-07-19 22:15:15] - AB Pipeline - INFO - t_test\n",
      "[2023-07-19 22:15:17] - AB Pipeline - INFO - t_test\n",
      "[2023-07-19 22:15:19] - AB Pipeline - INFO - mann_whitney\n",
      "[2023-07-19 22:15:21] - AB Pipeline - INFO - mann_whitney\n",
      "[2023-07-19 22:15:23] - AB Pipeline - INFO - mann_whitney\n",
      "[2023-07-19 22:15:25] - AB Pipeline - INFO - mann_whitney\n",
      "[2023-07-19 22:15:27] - AB Pipeline - INFO - prop_test\n",
      "[4920.0, 4876.0] [159808.00079999998, 214438.62965]\n"
     ]
    },
    {
     "name": "stderr",
     "output_type": "stream",
     "text": [
      "/Library/Python/3.8/site-packages/statsmodels/stats/proportion.py:1025: RuntimeWarning: invalid value encountered in sqrt\n",
      "  std_diff = np.sqrt(var_)\n"
     ]
    },
    {
     "name": "stdout",
     "output_type": "stream",
     "text": [
      "[2023-07-19 22:15:29] - AB Pipeline - INFO - prop_test\n",
      "[4920, 4876] [100, 101]\n",
      "[2023-07-19 22:15:31] - AB Pipeline - INFO - prop_test\n",
      "[4920, 4876] [100, 101]\n",
      "[2023-07-19 22:15:33] - AB Pipeline - INFO - prop_test\n",
      "[4920.0, 4876.0] [159808.00079999998, 214438.62965]\n"
     ]
    },
    {
     "name": "stderr",
     "output_type": "stream",
     "text": [
      "/Library/Python/3.8/site-packages/statsmodels/stats/proportion.py:1025: RuntimeWarning: invalid value encountered in sqrt\n",
      "  std_diff = np.sqrt(var_)\n"
     ]
    },
    {
     "name": "stdout",
     "output_type": "stream",
     "text": [
      "[2023-07-19 22:15:36] - AB Pipeline - INFO - t_test\n",
      "[2023-07-19 22:15:38] - AB Pipeline - INFO - t_test\n",
      "[2023-07-19 22:15:39] - AB Pipeline - INFO - t_test\n",
      "[2023-07-19 22:15:42] - AB Pipeline - INFO - t_test\n",
      "[2023-07-19 22:15:44] - AB Pipeline - INFO - mann_whitney\n",
      "[2023-07-19 22:15:46] - AB Pipeline - INFO - mann_whitney\n",
      "[2023-07-19 22:15:48] - AB Pipeline - INFO - mann_whitney\n",
      "[2023-07-19 22:15:50] - AB Pipeline - INFO - mann_whitney\n",
      "[2023-07-19 22:15:52] - AB Pipeline - INFO - prop_test\n",
      "[4925.0, 4870.0] [171944.941, 202301.68945]\n"
     ]
    },
    {
     "name": "stderr",
     "output_type": "stream",
     "text": [
      "/Library/Python/3.8/site-packages/statsmodels/stats/proportion.py:1025: RuntimeWarning: invalid value encountered in sqrt\n",
      "  std_diff = np.sqrt(var_)\n"
     ]
    },
    {
     "name": "stdout",
     "output_type": "stream",
     "text": [
      "[2023-07-19 22:15:54] - AB Pipeline - INFO - prop_test\n",
      "[4925, 4870] [94, 107]\n",
      "[2023-07-19 22:15:56] - AB Pipeline - INFO - prop_test\n",
      "[4925, 4870] [94, 107]\n",
      "[2023-07-19 22:15:58] - AB Pipeline - INFO - prop_test\n",
      "[4925.0, 4870.0] [171944.941, 202301.68945]\n"
     ]
    },
    {
     "name": "stderr",
     "output_type": "stream",
     "text": [
      "/Library/Python/3.8/site-packages/statsmodels/stats/proportion.py:1025: RuntimeWarning: invalid value encountered in sqrt\n",
      "  std_diff = np.sqrt(var_)\n"
     ]
    },
    {
     "name": "stdout",
     "output_type": "stream",
     "text": [
      "[2023-07-19 22:16:01] - AB Pipeline - INFO - t_test\n",
      "[2023-07-19 22:16:02] - AB Pipeline - INFO - t_test\n",
      "[2023-07-19 22:16:04] - AB Pipeline - INFO - t_test\n",
      "[2023-07-19 22:16:07] - AB Pipeline - INFO - t_test\n",
      "[2023-07-19 22:16:09] - AB Pipeline - INFO - mann_whitney\n",
      "[2023-07-19 22:16:11] - AB Pipeline - INFO - mann_whitney\n",
      "[2023-07-19 22:16:13] - AB Pipeline - INFO - mann_whitney\n",
      "[2023-07-19 22:16:15] - AB Pipeline - INFO - mann_whitney\n",
      "[2023-07-19 22:16:17] - AB Pipeline - INFO - prop_test\n",
      "[4897.0, 4892.0] [163046.58475, 211200.0457]\n"
     ]
    },
    {
     "name": "stderr",
     "output_type": "stream",
     "text": [
      "/Library/Python/3.8/site-packages/statsmodels/stats/proportion.py:1025: RuntimeWarning: invalid value encountered in sqrt\n",
      "  std_diff = np.sqrt(var_)\n"
     ]
    },
    {
     "name": "stdout",
     "output_type": "stream",
     "text": [
      "[2023-07-19 22:16:19] - AB Pipeline - INFO - prop_test\n",
      "[4897, 4892] [99, 102]\n",
      "[2023-07-19 22:16:21] - AB Pipeline - INFO - prop_test\n",
      "[4897, 4892] [99, 102]\n",
      "[2023-07-19 22:16:23] - AB Pipeline - INFO - prop_test\n",
      "[4897.0, 4892.0] [163046.58475, 211200.0457]\n"
     ]
    },
    {
     "name": "stderr",
     "output_type": "stream",
     "text": [
      "/Library/Python/3.8/site-packages/statsmodels/stats/proportion.py:1025: RuntimeWarning: invalid value encountered in sqrt\n",
      "  std_diff = np.sqrt(var_)\n"
     ]
    },
    {
     "name": "stdout",
     "output_type": "stream",
     "text": [
      "[2023-07-19 22:16:25] - AB Pipeline - INFO - t_test\n",
      "[2023-07-19 22:16:27] - AB Pipeline - INFO - t_test\n",
      "[2023-07-19 22:16:29] - AB Pipeline - INFO - t_test\n",
      "[2023-07-19 22:16:32] - AB Pipeline - INFO - t_test\n",
      "[2023-07-19 22:16:34] - AB Pipeline - INFO - mann_whitney\n",
      "[2023-07-19 22:16:36] - AB Pipeline - INFO - mann_whitney\n",
      "[2023-07-19 22:16:38] - AB Pipeline - INFO - mann_whitney\n",
      "[2023-07-19 22:16:40] - AB Pipeline - INFO - mann_whitney\n",
      "[2023-07-19 22:16:42] - AB Pipeline - INFO - prop_test\n",
      "[4912.0, 4871.0] [223260.71039999998, 150985.92005]\n"
     ]
    },
    {
     "name": "stderr",
     "output_type": "stream",
     "text": [
      "/Library/Python/3.8/site-packages/statsmodels/stats/proportion.py:1025: RuntimeWarning: invalid value encountered in sqrt\n",
      "  std_diff = np.sqrt(var_)\n"
     ]
    },
    {
     "name": "stdout",
     "output_type": "stream",
     "text": [
      "[2023-07-19 22:16:44] - AB Pipeline - INFO - prop_test\n",
      "[4912, 4871] [112, 89]\n",
      "[2023-07-19 22:16:46] - AB Pipeline - INFO - prop_test\n",
      "[4912, 4871] [112, 89]\n",
      "[2023-07-19 22:16:49] - AB Pipeline - INFO - prop_test\n",
      "[4912.0, 4871.0] [223260.71039999998, 150985.92005]\n"
     ]
    },
    {
     "name": "stderr",
     "output_type": "stream",
     "text": [
      "/Library/Python/3.8/site-packages/statsmodels/stats/proportion.py:1025: RuntimeWarning: invalid value encountered in sqrt\n",
      "  std_diff = np.sqrt(var_)\n"
     ]
    },
    {
     "name": "stdout",
     "output_type": "stream",
     "text": [
      "[2023-07-19 22:16:51] - AB Pipeline - INFO - t_test\n",
      "[2023-07-19 22:16:53] - AB Pipeline - INFO - t_test\n",
      "[2023-07-19 22:16:55] - AB Pipeline - INFO - t_test\n",
      "[2023-07-19 22:16:57] - AB Pipeline - INFO - t_test\n",
      "[2023-07-19 22:16:59] - AB Pipeline - INFO - mann_whitney\n",
      "[2023-07-19 22:17:01] - AB Pipeline - INFO - mann_whitney\n",
      "[2023-07-19 22:17:03] - AB Pipeline - INFO - mann_whitney\n",
      "[2023-07-19 22:17:05] - AB Pipeline - INFO - mann_whitney\n",
      "[2023-07-19 22:17:08] - AB Pipeline - INFO - prop_test\n",
      "[4958.0, 4834.0] [204004.2389, 170242.39155]\n"
     ]
    },
    {
     "name": "stderr",
     "output_type": "stream",
     "text": [
      "/Library/Python/3.8/site-packages/statsmodels/stats/proportion.py:1025: RuntimeWarning: invalid value encountered in sqrt\n",
      "  std_diff = np.sqrt(var_)\n"
     ]
    },
    {
     "name": "stdout",
     "output_type": "stream",
     "text": [
      "[2023-07-19 22:17:10] - AB Pipeline - INFO - prop_test\n",
      "[4958, 4834] [109, 92]\n",
      "[2023-07-19 22:17:12] - AB Pipeline - INFO - prop_test\n",
      "[4958, 4834] [109, 92]\n",
      "[2023-07-19 22:17:14] - AB Pipeline - INFO - prop_test\n",
      "[4958.0, 4834.0] [204004.2389, 170242.39155]\n"
     ]
    },
    {
     "name": "stderr",
     "output_type": "stream",
     "text": [
      "/Library/Python/3.8/site-packages/statsmodels/stats/proportion.py:1025: RuntimeWarning: invalid value encountered in sqrt\n",
      "  std_diff = np.sqrt(var_)\n"
     ]
    },
    {
     "name": "stdout",
     "output_type": "stream",
     "text": [
      "[2023-07-19 22:17:16] - AB Pipeline - INFO - t_test\n",
      "[2023-07-19 22:17:18] - AB Pipeline - INFO - t_test\n",
      "[2023-07-19 22:17:20] - AB Pipeline - INFO - t_test\n",
      "[2023-07-19 22:17:22] - AB Pipeline - INFO - t_test\n",
      "[2023-07-19 22:17:25] - AB Pipeline - INFO - mann_whitney\n",
      "[2023-07-19 22:17:27] - AB Pipeline - INFO - mann_whitney\n",
      "[2023-07-19 22:17:29] - AB Pipeline - INFO - mann_whitney\n",
      "[2023-07-19 22:17:31] - AB Pipeline - INFO - mann_whitney\n",
      "[2023-07-19 22:17:33] - AB Pipeline - INFO - prop_test\n",
      "[4885.0, 4913.0] [194273.65509999997, 179972.97535]\n"
     ]
    },
    {
     "name": "stderr",
     "output_type": "stream",
     "text": [
      "/Library/Python/3.8/site-packages/statsmodels/stats/proportion.py:1025: RuntimeWarning: invalid value encountered in sqrt\n",
      "  std_diff = np.sqrt(var_)\n"
     ]
    },
    {
     "name": "stdout",
     "output_type": "stream",
     "text": [
      "[2023-07-19 22:17:35] - AB Pipeline - INFO - prop_test\n",
      "[4885, 4913] [98, 103]\n",
      "[2023-07-19 22:17:37] - AB Pipeline - INFO - prop_test\n",
      "[4885, 4913] [98, 103]\n",
      "[2023-07-19 22:17:39] - AB Pipeline - INFO - prop_test\n",
      "[4885.0, 4913.0] [194273.65509999997, 179972.97535]\n"
     ]
    },
    {
     "name": "stderr",
     "output_type": "stream",
     "text": [
      "/Library/Python/3.8/site-packages/statsmodels/stats/proportion.py:1025: RuntimeWarning: invalid value encountered in sqrt\n",
      "  std_diff = np.sqrt(var_)\n"
     ]
    },
    {
     "name": "stdout",
     "output_type": "stream",
     "text": [
      "[2023-07-19 22:17:41] - AB Pipeline - INFO - t_test\n",
      "[2023-07-19 22:17:43] - AB Pipeline - INFO - t_test\n",
      "[2023-07-19 22:17:45] - AB Pipeline - INFO - t_test\n",
      "[2023-07-19 22:17:48] - AB Pipeline - INFO - t_test\n",
      "[2023-07-19 22:17:50] - AB Pipeline - INFO - mann_whitney\n",
      "[2023-07-19 22:17:52] - AB Pipeline - INFO - mann_whitney\n",
      "[2023-07-19 22:17:54] - AB Pipeline - INFO - mann_whitney\n",
      "[2023-07-19 22:17:56] - AB Pipeline - INFO - mann_whitney\n",
      "[2023-07-19 22:17:58] - AB Pipeline - INFO - prop_test\n",
      "[4809.0, 4983.0] [143590.98320000002, 230655.64724999998]\n"
     ]
    },
    {
     "name": "stderr",
     "output_type": "stream",
     "text": [
      "/Library/Python/3.8/site-packages/statsmodels/stats/proportion.py:1025: RuntimeWarning: invalid value encountered in sqrt\n",
      "  std_diff = np.sqrt(var_)\n"
     ]
    },
    {
     "name": "stdout",
     "output_type": "stream",
     "text": [
      "[2023-07-19 22:18:00] - AB Pipeline - INFO - prop_test\n",
      "[4809, 4983] [93, 108]\n",
      "[2023-07-19 22:18:02] - AB Pipeline - INFO - prop_test\n",
      "[4809, 4983] [93, 108]\n",
      "[2023-07-19 22:18:04] - AB Pipeline - INFO - prop_test\n",
      "[4809.0, 4983.0] [143590.98320000002, 230655.64724999998]\n"
     ]
    },
    {
     "name": "stderr",
     "output_type": "stream",
     "text": [
      "/Library/Python/3.8/site-packages/statsmodels/stats/proportion.py:1025: RuntimeWarning: invalid value encountered in sqrt\n",
      "  std_diff = np.sqrt(var_)\n"
     ]
    },
    {
     "name": "stdout",
     "output_type": "stream",
     "text": [
      "[2023-07-19 22:18:06] - AB Pipeline - INFO - t_test\n",
      "[2023-07-19 22:18:08] - AB Pipeline - INFO - t_test\n",
      "[2023-07-19 22:18:10] - AB Pipeline - INFO - t_test\n",
      "[2023-07-19 22:18:13] - AB Pipeline - INFO - t_test\n",
      "[2023-07-19 22:18:15] - AB Pipeline - INFO - mann_whitney\n",
      "[2023-07-19 22:18:17] - AB Pipeline - INFO - mann_whitney\n",
      "[2023-07-19 22:18:19] - AB Pipeline - INFO - mann_whitney\n",
      "[2023-07-19 22:18:21] - AB Pipeline - INFO - mann_whitney\n",
      "[2023-07-19 22:18:23] - AB Pipeline - INFO - prop_test\n",
      "[4877.0, 4930.0] [191305.12764999998, 182941.5028]\n"
     ]
    },
    {
     "name": "stderr",
     "output_type": "stream",
     "text": [
      "/Library/Python/3.8/site-packages/statsmodels/stats/proportion.py:1025: RuntimeWarning: invalid value encountered in sqrt\n",
      "  std_diff = np.sqrt(var_)\n"
     ]
    },
    {
     "name": "stdout",
     "output_type": "stream",
     "text": [
      "[2023-07-19 22:18:25] - AB Pipeline - INFO - prop_test\n",
      "[4877, 4930] [110, 91]\n",
      "[2023-07-19 22:18:27] - AB Pipeline - INFO - prop_test\n",
      "[4877, 4930] [110, 91]\n",
      "[2023-07-19 22:18:29] - AB Pipeline - INFO - prop_test\n"
     ]
    },
    {
     "name": "stderr",
     "output_type": "stream",
     "text": [
      "/Library/Python/3.8/site-packages/statsmodels/stats/proportion.py:1025: RuntimeWarning: invalid value encountered in sqrt\n",
      "  std_diff = np.sqrt(var_)\n",
      "\n",
      " 20%|██        | 2/10 [08:13<32:57, 247.13s/it]\u001B[A"
     ]
    },
    {
     "name": "stdout",
     "output_type": "stream",
     "text": [
      "[4877.0, 4930.0] [191305.12764999998, 182941.5028]\n",
      "[2023-07-19 22:18:32] - AB Pipeline - INFO - t_test\n",
      "[2023-07-19 22:18:34] - AB Pipeline - INFO - t_test\n",
      "[2023-07-19 22:18:36] - AB Pipeline - INFO - t_test\n",
      "[2023-07-19 22:18:38] - AB Pipeline - INFO - t_test\n",
      "[2023-07-19 22:18:40] - AB Pipeline - INFO - mann_whitney\n",
      "[2023-07-19 22:18:42] - AB Pipeline - INFO - mann_whitney\n",
      "[2023-07-19 22:18:44] - AB Pipeline - INFO - mann_whitney\n",
      "[2023-07-19 22:18:46] - AB Pipeline - INFO - mann_whitney\n",
      "[2023-07-19 22:18:48] - AB Pipeline - INFO - prop_test\n",
      "[4869.0, 4931.0] [187890.7954, 372711.6701]\n"
     ]
    },
    {
     "name": "stderr",
     "output_type": "stream",
     "text": [
      "/Library/Python/3.8/site-packages/statsmodels/stats/proportion.py:1025: RuntimeWarning: invalid value encountered in sqrt\n",
      "  std_diff = np.sqrt(var_)\n"
     ]
    },
    {
     "name": "stdout",
     "output_type": "stream",
     "text": [
      "[2023-07-19 22:18:50] - AB Pipeline - INFO - prop_test\n",
      "[4869, 4931] [91, 110]\n",
      "[2023-07-19 22:18:52] - AB Pipeline - INFO - prop_test\n",
      "[4869, 4931] [91, 110]\n",
      "[2023-07-19 22:18:54] - AB Pipeline - INFO - prop_test\n",
      "[4869.0, 4931.0] [187890.7954, 372711.6701]\n"
     ]
    },
    {
     "name": "stderr",
     "output_type": "stream",
     "text": [
      "/Library/Python/3.8/site-packages/statsmodels/stats/proportion.py:1025: RuntimeWarning: invalid value encountered in sqrt\n",
      "  std_diff = np.sqrt(var_)\n"
     ]
    },
    {
     "name": "stdout",
     "output_type": "stream",
     "text": [
      "[2023-07-19 22:18:56] - AB Pipeline - INFO - t_test\n",
      "[2023-07-19 22:18:58] - AB Pipeline - INFO - t_test\n",
      "[2023-07-19 22:19:00] - AB Pipeline - INFO - t_test\n",
      "[2023-07-19 22:19:02] - AB Pipeline - INFO - t_test\n",
      "[2023-07-19 22:19:05] - AB Pipeline - INFO - mann_whitney\n",
      "[2023-07-19 22:19:07] - AB Pipeline - INFO - mann_whitney\n",
      "[2023-07-19 22:19:09] - AB Pipeline - INFO - mann_whitney\n"
     ]
    }
   ],
   "source": [
    "experiment_report = build_experiment_report(\n",
    "    df=df,\n",
    "    metric_config=_load_yaml_preset(preset='todo'),\n",
    "    mc_config=_load_yaml_preset(preset='todo/mc.yaml', mc=True)\n",
    ")"
   ],
   "metadata": {
    "collapsed": false,
    "pycharm": {
     "is_executing": true
    }
   }
  },
  {
   "cell_type": "code",
   "execution_count": 21,
   "outputs": [
    {
     "data": {
      "text/plain": "                     metric_name  mc_estimator  real_lift  mean_0  mean_1  \\\n0            Average Order Value  mann_whitney          0     1.0     1.0   \n1            Average Order Value  mann_whitney          3     1.0     1.0   \n2            Average Order Value  mann_whitney          6     1.0     1.0   \n3            Average Order Value  mann_whitney          9     1.0     1.0   \n4            Average Order Value     prop_test          0     1.0     1.0   \n...                          ...           ...        ...     ...     ...   \n1795  Canceled Orders per Orders     prop_test          9     1.0     1.0   \n1796  Canceled Orders per Orders        t_test          0     1.0     1.0   \n1797  Canceled Orders per Orders        t_test          3     1.0     1.0   \n1798  Canceled Orders per Orders        t_test          6     1.0     1.0   \n1799  Canceled Orders per Orders        t_test          9     1.0     1.0   \n\n      var_0  var_1  delta  is_reject    pvalue  \n0       0.0    0.0    0.0   0.000000  0.456638  \n1       0.0    0.0    0.0   0.041758  0.454756  \n2       0.0    0.0    0.0   0.039735  0.475991  \n3       0.0    0.0    0.0   0.036019  0.480755  \n4       0.0    0.0    0.0   0.000000  0.467079  \n...     ...    ...    ...        ...       ...  \n1795    0.0    0.0    0.0   0.035681  0.483836  \n1796    0.0    0.0    0.0   0.000000  0.462068  \n1797    0.0    0.0    0.0   0.038202  0.455430  \n1798    0.0    0.0    0.0   0.040268  0.477224  \n1799    0.0    0.0    0.0   0.034450  0.481110  \n\n[1800 rows x 10 columns]",
      "text/html": "<div>\n<style scoped>\n    .dataframe tbody tr th:only-of-type {\n        vertical-align: middle;\n    }\n\n    .dataframe tbody tr th {\n        vertical-align: top;\n    }\n\n    .dataframe thead th {\n        text-align: right;\n    }\n</style>\n<table border=\"1\" class=\"dataframe\">\n  <thead>\n    <tr style=\"text-align: right;\">\n      <th></th>\n      <th>metric_name</th>\n      <th>mc_estimator</th>\n      <th>real_lift</th>\n      <th>mean_0</th>\n      <th>mean_1</th>\n      <th>var_0</th>\n      <th>var_1</th>\n      <th>delta</th>\n      <th>is_reject</th>\n      <th>pvalue</th>\n    </tr>\n  </thead>\n  <tbody>\n    <tr>\n      <th>0</th>\n      <td>Average Order Value</td>\n      <td>mann_whitney</td>\n      <td>0</td>\n      <td>1.0</td>\n      <td>1.0</td>\n      <td>0.0</td>\n      <td>0.0</td>\n      <td>0.0</td>\n      <td>0.000000</td>\n      <td>0.456638</td>\n    </tr>\n    <tr>\n      <th>1</th>\n      <td>Average Order Value</td>\n      <td>mann_whitney</td>\n      <td>3</td>\n      <td>1.0</td>\n      <td>1.0</td>\n      <td>0.0</td>\n      <td>0.0</td>\n      <td>0.0</td>\n      <td>0.041758</td>\n      <td>0.454756</td>\n    </tr>\n    <tr>\n      <th>2</th>\n      <td>Average Order Value</td>\n      <td>mann_whitney</td>\n      <td>6</td>\n      <td>1.0</td>\n      <td>1.0</td>\n      <td>0.0</td>\n      <td>0.0</td>\n      <td>0.0</td>\n      <td>0.039735</td>\n      <td>0.475991</td>\n    </tr>\n    <tr>\n      <th>3</th>\n      <td>Average Order Value</td>\n      <td>mann_whitney</td>\n      <td>9</td>\n      <td>1.0</td>\n      <td>1.0</td>\n      <td>0.0</td>\n      <td>0.0</td>\n      <td>0.0</td>\n      <td>0.036019</td>\n      <td>0.480755</td>\n    </tr>\n    <tr>\n      <th>4</th>\n      <td>Average Order Value</td>\n      <td>prop_test</td>\n      <td>0</td>\n      <td>1.0</td>\n      <td>1.0</td>\n      <td>0.0</td>\n      <td>0.0</td>\n      <td>0.0</td>\n      <td>0.000000</td>\n      <td>0.467079</td>\n    </tr>\n    <tr>\n      <th>...</th>\n      <td>...</td>\n      <td>...</td>\n      <td>...</td>\n      <td>...</td>\n      <td>...</td>\n      <td>...</td>\n      <td>...</td>\n      <td>...</td>\n      <td>...</td>\n      <td>...</td>\n    </tr>\n    <tr>\n      <th>1795</th>\n      <td>Canceled Orders per Orders</td>\n      <td>prop_test</td>\n      <td>9</td>\n      <td>1.0</td>\n      <td>1.0</td>\n      <td>0.0</td>\n      <td>0.0</td>\n      <td>0.0</td>\n      <td>0.035681</td>\n      <td>0.483836</td>\n    </tr>\n    <tr>\n      <th>1796</th>\n      <td>Canceled Orders per Orders</td>\n      <td>t_test</td>\n      <td>0</td>\n      <td>1.0</td>\n      <td>1.0</td>\n      <td>0.0</td>\n      <td>0.0</td>\n      <td>0.0</td>\n      <td>0.000000</td>\n      <td>0.462068</td>\n    </tr>\n    <tr>\n      <th>1797</th>\n      <td>Canceled Orders per Orders</td>\n      <td>t_test</td>\n      <td>3</td>\n      <td>1.0</td>\n      <td>1.0</td>\n      <td>0.0</td>\n      <td>0.0</td>\n      <td>0.0</td>\n      <td>0.038202</td>\n      <td>0.455430</td>\n    </tr>\n    <tr>\n      <th>1798</th>\n      <td>Canceled Orders per Orders</td>\n      <td>t_test</td>\n      <td>6</td>\n      <td>1.0</td>\n      <td>1.0</td>\n      <td>0.0</td>\n      <td>0.0</td>\n      <td>0.0</td>\n      <td>0.040268</td>\n      <td>0.477224</td>\n    </tr>\n    <tr>\n      <th>1799</th>\n      <td>Canceled Orders per Orders</td>\n      <td>t_test</td>\n      <td>9</td>\n      <td>1.0</td>\n      <td>1.0</td>\n      <td>0.0</td>\n      <td>0.0</td>\n      <td>0.0</td>\n      <td>0.034450</td>\n      <td>0.481110</td>\n    </tr>\n  </tbody>\n</table>\n<p>1800 rows × 10 columns</p>\n</div>"
     },
     "execution_count": 21,
     "metadata": {},
     "output_type": "execute_result"
    }
   ],
   "source": [
    "import numpy as np\n",
    "\n",
    "experiment_report"
   ],
   "metadata": {
    "collapsed": false
   }
  },
  {
   "cell_type": "code",
   "execution_count": null,
   "outputs": [],
   "source": [],
   "metadata": {
    "collapsed": false
   }
  }
 ],
 "metadata": {
  "kernelspec": {
   "display_name": "Python 3",
   "language": "python",
   "name": "python3"
  },
  "language_info": {
   "codemirror_mode": {
    "name": "ipython",
    "version": 2
   },
   "file_extension": ".py",
   "mimetype": "text/x-python",
   "name": "python",
   "nbconvert_exporter": "python",
   "pygments_lexer": "ipython2",
   "version": "2.7.6"
  }
 },
 "nbformat": 4,
 "nbformat_minor": 0
}
