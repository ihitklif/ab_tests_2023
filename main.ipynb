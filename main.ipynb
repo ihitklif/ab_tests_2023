{
 "cells": [
  {
   "cell_type": "code",
   "execution_count": 1,
   "outputs": [],
   "source": [
    "# !pip3 install utils"
   ],
   "metadata": {
    "collapsed": false
   }
  },
  {
   "cell_type": "code",
   "execution_count": 2,
   "metadata": {
    "collapsed": true
   },
   "outputs": [],
   "source": [
    "import pandas as pd\n",
    "\n",
    "import config as cfg\n",
    "from metric_builder import _load_yaml_preset\n",
    "from report import build_experiment_report\n",
    "import time"
   ]
  },
  {
   "cell_type": "code",
   "execution_count": 3,
   "outputs": [],
   "source": [
    "logger = cfg.logger\n",
    "start_time = time.time()"
   ],
   "metadata": {
    "collapsed": false
   }
  },
  {
   "cell_type": "code",
   "execution_count": 4,
   "outputs": [
    {
     "name": "stdout",
     "output_type": "stream",
     "text": [
      "[2023-07-18 23:12:13] - AB Pipeline - INFO - Data loaded\n"
     ]
    }
   ],
   "source": [
    "# скачайте отдельно https://drive.google.com/file/d/1f-HM6v5HQFrQ8Rn8DmWz9G4NF4uTbo4x/view?usp=share_link\n",
    "# df = pd.read_parquet(f'data/parquet/df.parquet')\n",
    "\n",
    "# Мини-версия таблицы с данными по эксперименту, количество строк = 10000\n",
    "df = pd.read_csv(\"data/csv/df_sample.csv\")\n",
    "logger.info(\"Data loaded\")"
   ],
   "metadata": {
    "collapsed": false
   }
  },
  {
   "cell_type": "code",
   "execution_count": 5,
   "outputs": [
    {
     "data": {
      "text/plain": "   Unnamed: 0        date                          experiment_name  \\\n0     7854227  2022-06-27  202569574395405584945673903672822337874   \n1     7503845  2022-07-09  202569574395405584945673903672822337874   \n2     5697869  2022-07-10  202569574395405584945673903672822337874   \n3    10091858  2022-07-02  202569574395405584945673903672822337874   \n4     9981015  2022-07-01  202569574395405584945673903672822337874   \n\n   experiment_variant          event_name                    user_pseudo_id  \\\n0                   3                 NaN  99CA80D85767F03378A94545D3B3C63C   \n1                   0  view_shipping_info  30CB76C9409866013C261559DBA0C79F   \n2                   1  view_shipping_info  D641CF3DB22F1D685C890196E5A0E816   \n3                   0                 NaN  95FBC1844EAFCD4E9CC9B6032CB10EFC   \n4                   0  view_shipping_info  73F293DFB0BA7AAF60656DC92F15D13F   \n\n                             basket_id  \\\n0   AA6121EB897F87E2A66A29266A3B2E18.3   \n1   BB584FF35D59B88322914A89D42FC30B.1   \n2  6C88267A809CA0BAA35F63D694719FB0.14   \n3   CD0460A986959B86AC9F8414C40596C2.4   \n4   73790EE0220425555C4560643F92F9FB.3   \n\n                                   session_id  revenue  timestamp  ...  \\\n0  165635665699CA80D85767F03378A94545D3B3C63C      NaN        NaN  ...   \n1  165739573630CB76C9409866013C261559DBA0C79F      NaN        NaN  ...   \n2  1657467918D641CF3DB22F1D685C890196E5A0E816      NaN        NaN  ...   \n3  165677151395FBC1844EAFCD4E9CC9B6032CB10EFC      NaN        NaN  ...   \n4  165665109773F293DFB0BA7AAF60656DC92F15D13F      NaN        NaN  ...   \n\n   pg_cost_delivery  pg_cost_donation pg_cost_original_total  \\\n0               NaN               NaN                    NaN   \n1               NaN               NaN                    NaN   \n2               NaN               NaN                    NaN   \n3               NaN               NaN                    NaN   \n4               NaN               NaN                    NaN   \n\n  pg_cost_original_delivery pg_bonus_card pg_voucher  filter_source  \\\n0                       NaN           NaN        NaN            NaN   \n1                       NaN           NaN        NaN            NaN   \n2                       NaN           NaN        NaN            NaN   \n3                       NaN           NaN        NaN            NaN   \n4                       NaN           NaN        NaN            NaN   \n\n         name  days_between  order_id  \n0  make_order           NaN       NaN  \n1         NaN           NaN       NaN  \n2         NaN           NaN       NaN  \n3         NaN           NaN       NaN  \n4         NaN           NaN       NaN  \n\n[5 rows x 29 columns]",
      "text/html": "<div>\n<style scoped>\n    .dataframe tbody tr th:only-of-type {\n        vertical-align: middle;\n    }\n\n    .dataframe tbody tr th {\n        vertical-align: top;\n    }\n\n    .dataframe thead th {\n        text-align: right;\n    }\n</style>\n<table border=\"1\" class=\"dataframe\">\n  <thead>\n    <tr style=\"text-align: right;\">\n      <th></th>\n      <th>Unnamed: 0</th>\n      <th>date</th>\n      <th>experiment_name</th>\n      <th>experiment_variant</th>\n      <th>event_name</th>\n      <th>user_pseudo_id</th>\n      <th>basket_id</th>\n      <th>session_id</th>\n      <th>revenue</th>\n      <th>timestamp</th>\n      <th>...</th>\n      <th>pg_cost_delivery</th>\n      <th>pg_cost_donation</th>\n      <th>pg_cost_original_total</th>\n      <th>pg_cost_original_delivery</th>\n      <th>pg_bonus_card</th>\n      <th>pg_voucher</th>\n      <th>filter_source</th>\n      <th>name</th>\n      <th>days_between</th>\n      <th>order_id</th>\n    </tr>\n  </thead>\n  <tbody>\n    <tr>\n      <th>0</th>\n      <td>7854227</td>\n      <td>2022-06-27</td>\n      <td>202569574395405584945673903672822337874</td>\n      <td>3</td>\n      <td>NaN</td>\n      <td>99CA80D85767F03378A94545D3B3C63C</td>\n      <td>AA6121EB897F87E2A66A29266A3B2E18.3</td>\n      <td>165635665699CA80D85767F03378A94545D3B3C63C</td>\n      <td>NaN</td>\n      <td>NaN</td>\n      <td>...</td>\n      <td>NaN</td>\n      <td>NaN</td>\n      <td>NaN</td>\n      <td>NaN</td>\n      <td>NaN</td>\n      <td>NaN</td>\n      <td>NaN</td>\n      <td>make_order</td>\n      <td>NaN</td>\n      <td>NaN</td>\n    </tr>\n    <tr>\n      <th>1</th>\n      <td>7503845</td>\n      <td>2022-07-09</td>\n      <td>202569574395405584945673903672822337874</td>\n      <td>0</td>\n      <td>view_shipping_info</td>\n      <td>30CB76C9409866013C261559DBA0C79F</td>\n      <td>BB584FF35D59B88322914A89D42FC30B.1</td>\n      <td>165739573630CB76C9409866013C261559DBA0C79F</td>\n      <td>NaN</td>\n      <td>NaN</td>\n      <td>...</td>\n      <td>NaN</td>\n      <td>NaN</td>\n      <td>NaN</td>\n      <td>NaN</td>\n      <td>NaN</td>\n      <td>NaN</td>\n      <td>NaN</td>\n      <td>NaN</td>\n      <td>NaN</td>\n      <td>NaN</td>\n    </tr>\n    <tr>\n      <th>2</th>\n      <td>5697869</td>\n      <td>2022-07-10</td>\n      <td>202569574395405584945673903672822337874</td>\n      <td>1</td>\n      <td>view_shipping_info</td>\n      <td>D641CF3DB22F1D685C890196E5A0E816</td>\n      <td>6C88267A809CA0BAA35F63D694719FB0.14</td>\n      <td>1657467918D641CF3DB22F1D685C890196E5A0E816</td>\n      <td>NaN</td>\n      <td>NaN</td>\n      <td>...</td>\n      <td>NaN</td>\n      <td>NaN</td>\n      <td>NaN</td>\n      <td>NaN</td>\n      <td>NaN</td>\n      <td>NaN</td>\n      <td>NaN</td>\n      <td>NaN</td>\n      <td>NaN</td>\n      <td>NaN</td>\n    </tr>\n    <tr>\n      <th>3</th>\n      <td>10091858</td>\n      <td>2022-07-02</td>\n      <td>202569574395405584945673903672822337874</td>\n      <td>0</td>\n      <td>NaN</td>\n      <td>95FBC1844EAFCD4E9CC9B6032CB10EFC</td>\n      <td>CD0460A986959B86AC9F8414C40596C2.4</td>\n      <td>165677151395FBC1844EAFCD4E9CC9B6032CB10EFC</td>\n      <td>NaN</td>\n      <td>NaN</td>\n      <td>...</td>\n      <td>NaN</td>\n      <td>NaN</td>\n      <td>NaN</td>\n      <td>NaN</td>\n      <td>NaN</td>\n      <td>NaN</td>\n      <td>NaN</td>\n      <td>NaN</td>\n      <td>NaN</td>\n      <td>NaN</td>\n    </tr>\n    <tr>\n      <th>4</th>\n      <td>9981015</td>\n      <td>2022-07-01</td>\n      <td>202569574395405584945673903672822337874</td>\n      <td>0</td>\n      <td>view_shipping_info</td>\n      <td>73F293DFB0BA7AAF60656DC92F15D13F</td>\n      <td>73790EE0220425555C4560643F92F9FB.3</td>\n      <td>165665109773F293DFB0BA7AAF60656DC92F15D13F</td>\n      <td>NaN</td>\n      <td>NaN</td>\n      <td>...</td>\n      <td>NaN</td>\n      <td>NaN</td>\n      <td>NaN</td>\n      <td>NaN</td>\n      <td>NaN</td>\n      <td>NaN</td>\n      <td>NaN</td>\n      <td>NaN</td>\n      <td>NaN</td>\n      <td>NaN</td>\n    </tr>\n  </tbody>\n</table>\n<p>5 rows × 29 columns</p>\n</div>"
     },
     "execution_count": 5,
     "metadata": {},
     "output_type": "execute_result"
    }
   ],
   "source": [
    "df.head()"
   ],
   "metadata": {
    "collapsed": false
   }
  },
  {
   "cell_type": "code",
   "execution_count": 6,
   "outputs": [
    {
     "name": "stdout",
     "output_type": "stream",
     "text": [
      "[2023-07-18 23:12:15] - AB Pipeline - INFO - Average Revenuer Per User Without Cancelllations\n",
      "0.3578962743580151 35.02924049114791 292.70846221739595 1751.0 26.45235567274801 258.49055012005715 1754.0\n",
      "[2023-07-18 23:12:17] - AB Pipeline - INFO - Average Order Value\n",
      "nan 1.0 0.0 1751 1.0 0.0 1754\n",
      "[2023-07-18 23:12:19] - AB Pipeline - INFO - Canceled Orders per Orders\n",
      "[2023-07-18 23:12:21] - AB Pipeline - INFO - Average Revenue per Paying User Without Cancelation\n"
     ]
    }
   ],
   "source": [
    "experiment_report = build_experiment_report(\n",
    "    df=df,\n",
    "    metric_config=_load_yaml_preset(preset='todo')\n",
    ")"
   ],
   "metadata": {
    "collapsed": false
   }
  },
  {
   "cell_type": "code",
   "execution_count": 7,
   "outputs": [
    {
     "data": {
      "text/plain": "                                         metric_name    mean_0     mean_1  \\\n0   Average Revenuer Per User Without Cancelllations  35.02924  26.452356   \n0                                Average Order Value   1.00000   1.000000   \n0                         Canceled Orders per Orders   1.00000   1.000000   \n0  Average Revenue per Paying User Without Cancel...  35.02924  26.452356   \n\n          var_0         var_1     delta      lift    pvalue     statistic  \n0  85678.243854  66817.364501 -8.576885 -0.244849  0.357896  9.195022e-01  \n0      0.000000      0.000000  0.000000  0.000000       NaN           NaN  \n0      0.000000      0.000000  0.000000  0.000000  0.520526  6.425354e-01  \n0  85678.243854  66817.364501 -8.576885 -0.244849  0.513617  1.540130e+06  ",
      "text/html": "<div>\n<style scoped>\n    .dataframe tbody tr th:only-of-type {\n        vertical-align: middle;\n    }\n\n    .dataframe tbody tr th {\n        vertical-align: top;\n    }\n\n    .dataframe thead th {\n        text-align: right;\n    }\n</style>\n<table border=\"1\" class=\"dataframe\">\n  <thead>\n    <tr style=\"text-align: right;\">\n      <th></th>\n      <th>metric_name</th>\n      <th>mean_0</th>\n      <th>mean_1</th>\n      <th>var_0</th>\n      <th>var_1</th>\n      <th>delta</th>\n      <th>lift</th>\n      <th>pvalue</th>\n      <th>statistic</th>\n    </tr>\n  </thead>\n  <tbody>\n    <tr>\n      <th>0</th>\n      <td>Average Revenuer Per User Without Cancelllations</td>\n      <td>35.02924</td>\n      <td>26.452356</td>\n      <td>85678.243854</td>\n      <td>66817.364501</td>\n      <td>-8.576885</td>\n      <td>-0.244849</td>\n      <td>0.357896</td>\n      <td>9.195022e-01</td>\n    </tr>\n    <tr>\n      <th>0</th>\n      <td>Average Order Value</td>\n      <td>1.00000</td>\n      <td>1.000000</td>\n      <td>0.000000</td>\n      <td>0.000000</td>\n      <td>0.000000</td>\n      <td>0.000000</td>\n      <td>NaN</td>\n      <td>NaN</td>\n    </tr>\n    <tr>\n      <th>0</th>\n      <td>Canceled Orders per Orders</td>\n      <td>1.00000</td>\n      <td>1.000000</td>\n      <td>0.000000</td>\n      <td>0.000000</td>\n      <td>0.000000</td>\n      <td>0.000000</td>\n      <td>0.520526</td>\n      <td>6.425354e-01</td>\n    </tr>\n    <tr>\n      <th>0</th>\n      <td>Average Revenue per Paying User Without Cancel...</td>\n      <td>35.02924</td>\n      <td>26.452356</td>\n      <td>85678.243854</td>\n      <td>66817.364501</td>\n      <td>-8.576885</td>\n      <td>-0.244849</td>\n      <td>0.513617</td>\n      <td>1.540130e+06</td>\n    </tr>\n  </tbody>\n</table>\n</div>"
     },
     "execution_count": 7,
     "metadata": {},
     "output_type": "execute_result"
    }
   ],
   "source": [
    "experiment_report"
   ],
   "metadata": {
    "collapsed": false
   }
  },
  {
   "cell_type": "code",
   "execution_count": 8,
   "outputs": [
    {
     "data": {
      "text/plain": "                                         metric_name    mean_0     mean_1  \\\n0   Average Revenuer Per User Without Cancelllations  35.02924  26.452356   \n0                                Average Order Value   1.00000   1.000000   \n0                         Canceled Orders per Orders   1.00000   1.000000   \n0  Average Revenue per Paying User Without Cancel...  35.02924  26.452356   \n\n          var_0         var_1     delta      lift    pvalue     statistic  \n0  85678.243854  66817.364501 -8.576885 -0.244849  0.357896  9.195022e-01  \n0      0.000000      0.000000  0.000000  0.000000       NaN           NaN  \n0      0.000000      0.000000  0.000000  0.000000  0.520526  6.425354e-01  \n0  85678.243854  66817.364501 -8.576885 -0.244849  0.513617  1.540130e+06  ",
      "text/html": "<div>\n<style scoped>\n    .dataframe tbody tr th:only-of-type {\n        vertical-align: middle;\n    }\n\n    .dataframe tbody tr th {\n        vertical-align: top;\n    }\n\n    .dataframe thead th {\n        text-align: right;\n    }\n</style>\n<table border=\"1\" class=\"dataframe\">\n  <thead>\n    <tr style=\"text-align: right;\">\n      <th></th>\n      <th>metric_name</th>\n      <th>mean_0</th>\n      <th>mean_1</th>\n      <th>var_0</th>\n      <th>var_1</th>\n      <th>delta</th>\n      <th>lift</th>\n      <th>pvalue</th>\n      <th>statistic</th>\n    </tr>\n  </thead>\n  <tbody>\n    <tr>\n      <th>0</th>\n      <td>Average Revenuer Per User Without Cancelllations</td>\n      <td>35.02924</td>\n      <td>26.452356</td>\n      <td>85678.243854</td>\n      <td>66817.364501</td>\n      <td>-8.576885</td>\n      <td>-0.244849</td>\n      <td>0.357896</td>\n      <td>9.195022e-01</td>\n    </tr>\n    <tr>\n      <th>0</th>\n      <td>Average Order Value</td>\n      <td>1.00000</td>\n      <td>1.000000</td>\n      <td>0.000000</td>\n      <td>0.000000</td>\n      <td>0.000000</td>\n      <td>0.000000</td>\n      <td>NaN</td>\n      <td>NaN</td>\n    </tr>\n    <tr>\n      <th>0</th>\n      <td>Canceled Orders per Orders</td>\n      <td>1.00000</td>\n      <td>1.000000</td>\n      <td>0.000000</td>\n      <td>0.000000</td>\n      <td>0.000000</td>\n      <td>0.000000</td>\n      <td>0.520526</td>\n      <td>6.425354e-01</td>\n    </tr>\n    <tr>\n      <th>0</th>\n      <td>Average Revenue per Paying User Without Cancel...</td>\n      <td>35.02924</td>\n      <td>26.452356</td>\n      <td>85678.243854</td>\n      <td>66817.364501</td>\n      <td>-8.576885</td>\n      <td>-0.244849</td>\n      <td>0.513617</td>\n      <td>1.540130e+06</td>\n    </tr>\n  </tbody>\n</table>\n</div>"
     },
     "execution_count": 8,
     "metadata": {},
     "output_type": "execute_result"
    }
   ],
   "source": [
    "experiment_report"
   ],
   "metadata": {
    "collapsed": false
   }
  },
  {
   "cell_type": "code",
   "execution_count": 9,
   "outputs": [
    {
     "name": "stdout",
     "output_type": "stream",
     "text": [
      "[2023-07-18 23:12:21] - AB Pipeline - INFO - 7.8676371574401855\n"
     ]
    }
   ],
   "source": [
    "# experiment_report.to_csv(f\"experiment_report.csv\")\n",
    "\n",
    "cfg.logger.info(time.time() - start_time)"
   ],
   "metadata": {
    "collapsed": false
   }
  },
  {
   "cell_type": "code",
   "execution_count": 9,
   "outputs": [],
   "source": [],
   "metadata": {
    "collapsed": false
   }
  }
 ],
 "metadata": {
  "kernelspec": {
   "display_name": "Python 3",
   "language": "python",
   "name": "python3"
  },
  "language_info": {
   "codemirror_mode": {
    "name": "ipython",
    "version": 2
   },
   "file_extension": ".py",
   "mimetype": "text/x-python",
   "name": "python",
   "nbconvert_exporter": "python",
   "pygments_lexer": "ipython2",
   "version": "2.7.6"
  }
 },
 "nbformat": 4,
 "nbformat_minor": 0
}
